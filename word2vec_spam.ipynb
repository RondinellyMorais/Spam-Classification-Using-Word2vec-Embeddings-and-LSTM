{
 "cells": [
  {
   "cell_type": "markdown",
   "metadata": {},
   "source": [
    "## Spam Classification Using Word2vec Embeddings and LSTM Neural Network"
   ]
  },
  {
   "cell_type": "markdown",
   "metadata": {},
   "source": [
    "A group of Google researchers developed [word2vec](https://www.tensorflow.org/tutorials/text/word2vec) in 2013, and it has become\n",
    "the foundation of NLP that is also incorporated in BERT. Word2vec provides\n",
    "an efficient method to represent words as vectors in a lower-dimensional\n",
    "space. The word2vec will generate a vector consisting of\n",
    "floating points for each word in a text corpus. \n",
    "\n",
    "The task is to transform the text words to vectors using a some neural network type. This neural network concise the of an output layer that has the same dimension as the input layer, with no activation function.  The kind of neural network like word2vec is called autoencoder.\n",
    "\n",
    "We will use the word2vec embeddings model to prepare the data text to classification the task of the urls texts into two categories: urls that mean spam contents or no spam contents. Some of the best classifier text models are neural networks like recurrent NN of type LSTM (Long Short Term Memory). In the first step, we make data analysis, data clean, and features engineering. To the second step, we should be building the word2vec embeddings model to feed the LSTM classification model"
   ]
  },
  {
   "cell_type": "code",
   "execution_count": 2,
   "metadata": {},
   "outputs": [],
   "source": [
    "# Importing the Libraries Requirel\n",
    "import sys\n",
    "import nltk\n",
    "import sklearn\n",
    "import pandas as pd\n",
    "import numpy as np\n",
    "import matplotlib.pyplot as plt\n",
    "import seaborn as sns\n",
    "from bs4 import BeautifulSoup \n",
    "\n",
    "import re\n",
    "import string\n",
    "import nltk\n",
    "from nltk.corpus import stopwords\n",
    "from nltk.stem import WordNetLemmatizer \n",
    "from nltk.tokenize import word_tokenize\n",
    "from wordcloud import WordCloud, STOPWORDS\n",
    "\n",
    "from sklearn.model_selection import train_test_split\n",
    "from sklearn.pipeline import Pipeline\n",
    "from sklearn.linear_model import LogisticRegression\n",
    "from sklearn.ensemble import RandomForestClassifier\n",
    "from sklearn.metrics import accuracy_score, confusion_matrix, classification_report\n",
    "from sklearn.feature_extraction.text import TfidfVectorizer\n",
    "from sklearn.metrics import roc_auc_score\n",
    "\n",
    "from sklearn.linear_model import LogisticRegression, RidgeClassifier\n",
    "from sklearn.multiclass import OneVsRestClassifier\n",
    "from sklearn.model_selection import RandomizedSearchCV\n",
    "\n",
    "from sklearn.model_selection import KFold\n",
    "from sklearn.metrics import log_loss, accuracy_score\n",
    "\n",
    "from lightgbm import LGBMClassifier\n",
    "from xgboost import XGBClassifier\n",
    "from catboost import CatBoostClassifier\n",
    "\n",
    "from colorama import Fore, Back, Style\n",
    "\n",
    "import tensorflow as tf\n",
    "\n",
    "from keras.layers import Dense, Flatten, Embedding, Input, LSTM\n",
    "#from keras.models import Model\n",
    "from keras.preprocessing.text import text_to_word_sequence\n",
    "\n",
    "#gensim w2v\n",
    "#word2vec\n",
    "#from gensim.models import Word2Vec\n",
    "\n",
    "from tensorflow import keras\n",
    "\n",
    "from tensorflow.keras.models import Sequential\n",
    "from keras.preprocessing.text import Tokenizer\n",
    "\n",
    "import warnings\n",
    "warnings.filterwarnings(\"ignore\")"
   ]
  },
  {
   "cell_type": "code",
   "execution_count": 3,
   "metadata": {},
   "outputs": [
    {
     "data": {
      "text/html": [
       "<div>\n",
       "<style scoped>\n",
       "    .dataframe tbody tr th:only-of-type {\n",
       "        vertical-align: middle;\n",
       "    }\n",
       "\n",
       "    .dataframe tbody tr th {\n",
       "        vertical-align: top;\n",
       "    }\n",
       "\n",
       "    .dataframe thead th {\n",
       "        text-align: right;\n",
       "    }\n",
       "</style>\n",
       "<table border=\"1\" class=\"dataframe\">\n",
       "  <thead>\n",
       "    <tr style=\"text-align: right;\">\n",
       "      <th></th>\n",
       "      <th>url</th>\n",
       "      <th>is_spam</th>\n",
       "    </tr>\n",
       "  </thead>\n",
       "  <tbody>\n",
       "    <tr>\n",
       "      <th>0</th>\n",
       "      <td>https://briefingday.us8.list-manage.com/unsubs...</td>\n",
       "      <td>True</td>\n",
       "    </tr>\n",
       "    <tr>\n",
       "      <th>1</th>\n",
       "      <td>https://www.hvper.com/</td>\n",
       "      <td>True</td>\n",
       "    </tr>\n",
       "    <tr>\n",
       "      <th>2</th>\n",
       "      <td>https://briefingday.com/m/v4n3i4f3</td>\n",
       "      <td>True</td>\n",
       "    </tr>\n",
       "    <tr>\n",
       "      <th>3</th>\n",
       "      <td>https://briefingday.com/n/20200618/m#commentform</td>\n",
       "      <td>False</td>\n",
       "    </tr>\n",
       "    <tr>\n",
       "      <th>4</th>\n",
       "      <td>https://briefingday.com/fan</td>\n",
       "      <td>True</td>\n",
       "    </tr>\n",
       "  </tbody>\n",
       "</table>\n",
       "</div>"
      ],
      "text/plain": [
       "                                                 url  is_spam\n",
       "0  https://briefingday.us8.list-manage.com/unsubs...     True\n",
       "1                             https://www.hvper.com/     True\n",
       "2                 https://briefingday.com/m/v4n3i4f3     True\n",
       "3   https://briefingday.com/n/20200618/m#commentform    False\n",
       "4                        https://briefingday.com/fan     True"
      ]
     },
     "execution_count": 3,
     "metadata": {},
     "output_type": "execute_result"
    }
   ],
   "source": [
    "# Loading and reading data\n",
    "df = pd.read_csv('unseen.csv')\n",
    "# Show the 5 first rows\n",
    "df.head(5)"
   ]
  },
  {
   "cell_type": "code",
   "execution_count": 4,
   "metadata": {},
   "outputs": [
    {
     "data": {
      "text/plain": [
       "url        0\n",
       "is_spam    0\n",
       "dtype: int64"
      ]
     },
     "execution_count": 4,
     "metadata": {},
     "output_type": "execute_result"
    }
   ],
   "source": [
    "# Check data for null values\n",
    "df.isnull().sum()"
   ]
  },
  {
   "cell_type": "code",
   "execution_count": 5,
   "metadata": {},
   "outputs": [
    {
     "name": "stdout",
     "output_type": "stream",
     "text": [
      "<class 'pandas.core.frame.DataFrame'>\n",
      "RangeIndex: 133473 entries, 0 to 133472\n",
      "Data columns (total 2 columns):\n",
      " #   Column   Non-Null Count   Dtype \n",
      "---  ------   --------------   ----- \n",
      " 0   url      133473 non-null  object\n",
      " 1   is_spam  133473 non-null  bool  \n",
      "dtypes: bool(1), object(1)\n",
      "memory usage: 1.1+ MB\n"
     ]
    }
   ],
   "source": [
    "# Check  data information\n",
    "df.info()"
   ]
  },
  {
   "cell_type": "code",
   "execution_count": 6,
   "metadata": {},
   "outputs": [],
   "source": [
    "# Modifying the data type boolean of 'is_spam' to object\n",
    "df['is_spam'] = df['is_spam'].astype(object)"
   ]
  },
  {
   "cell_type": "code",
   "execution_count": 64,
   "metadata": {},
   "outputs": [],
   "source": [
    "\n",
    "#df = df.replace(['True', 'False'], ['spam','ham'], inplace=True)"
   ]
  },
  {
   "cell_type": "code",
   "execution_count": 7,
   "metadata": {},
   "outputs": [
    {
     "data": {
      "text/plain": [
       "False    90901\n",
       "True     42572\n",
       "Name: is_spam, dtype: int64"
      ]
     },
     "execution_count": 7,
     "metadata": {},
     "output_type": "execute_result"
    },
    {
     "data": {
      "image/png": "[encoded data removed]",
      "text/plain": [
       "<Figure size 432x288 with 1 Axes>"
      ]
     },
     "metadata": {
      "needs_background": "light"
     },
     "output_type": "display_data"
    }
   ],
   "source": [
    "# Show the amount records of each classes\n",
    "sns.countplot(x = df['is_spam']);\n",
    "df['is_spam'].value_counts()"
   ]
  },
  {
   "cell_type": "markdown",
   "metadata": {},
   "source": [
    "### Clean the Text data"
   ]
  },
  {
   "cell_type": "code",
   "execution_count": 8,
   "metadata": {},
   "outputs": [],
   "source": [
    "# Creating the function to deal the main regular expressions in the text\n",
    "def clean_carater(data):\n",
    "\n",
    "    # Changing the e-mail address to 'email'.\n",
    "    processed = data.str.replace(r'^.+@[^\\.].*\\.[a-z]{2,}$',\n",
    "                                 'email')\n",
    "\n",
    "    # Changing URLs to 'webaddress' expression.\n",
    "    processed = processed.str.replace(r'^http\\://[a-zA-Z0-9\\-\\.]+\\.[a-zA-Z]{2,3}(/\\S*)?$',\n",
    "                                  'webaddress')\n",
    "\n",
    "    # Changing money symbol  to 'money symbol'.\n",
    "    processed = processed.str.replace(r'£|\\$', 'moneysymbol')\n",
    "\n",
    "    # Changing the number fone with 10 digits to 'numberfone' (Formats include parentheses, spaces, no spaces, indents)\n",
    "    processed = processed.str.replace(r'^\\(?[\\d]{3}\\)?[\\s-]?[\\d]{3}[\\s-]?[\\d]{4}$',\n",
    "                                  'numberfone')\n",
    "    \n",
    "    # Changing the number sequences to 'number'.\n",
    "    processed = processed.str.replace(r'\\d+(\\.\\d+)?', 'number')\n",
    "\n",
    "    # Removing punctuation.\n",
    "    processed = processed.str.replace(r'[^\\w\\d\\s]', ' ')\n",
    "\n",
    "    # Changing empty space between terms by unique space.\n",
    "    processed = processed.str.replace(r'\\s+', ' ')\n",
    "\n",
    "    # Remova os espaços em branco à esquerda e à direita Removing the empty spaces left and spaces\n",
    "    processed = processed.str.replace(r'^\\s+|\\s+?$', '')\n",
    "\n",
    "    return processed"
   ]
  },
  {
   "cell_type": "code",
   "execution_count": 9,
   "metadata": {},
   "outputs": [
    {
     "name": "stdout",
     "output_type": "stream",
     "text": [
      "0         https briefingday usnumber list manage com uns...\n",
      "1                                       https www hvper com\n",
      "2         https briefingday com m vnumbernnumberinumberf...\n",
      "3              https briefingday com n number m commentform\n",
      "4                                 https briefingday com fan\n",
      "                                ...                        \n",
      "133468    https www wsj com articles the philadelphia ea...\n",
      "133469    https cdn substack com image fetch f_auto q_au...\n",
      "133470    https docs google com forms d e numberfaipqlsf...\n",
      "133471                          https bookclub substack com\n",
      "133472                            https awards substack com\n",
      "Name: url, Length: 133473, dtype: object\n"
     ]
    }
   ],
   "source": [
    "# Applying the claen_caracter function on the texts\n",
    "pro = clean_carater(data = df['url'])\n",
    "\n",
    "# Converting all caracters upcase to lowcase.\n",
    "processed = pro.str.lower()\n",
    "print(processed)"
   ]
  },
  {
   "cell_type": "code",
   "execution_count": 10,
   "metadata": {},
   "outputs": [],
   "source": [
    "# Incert the cleaned text in original data\n",
    "pre = pd.DataFrame(data = processed, columns=['url'])\n",
    "\n",
    "dff = df.drop('url', axis = 1)\n",
    "dff = pd.concat([dff, pre], axis = 1)"
   ]
  },
  {
   "cell_type": "code",
   "execution_count": 11,
   "metadata": {},
   "outputs": [
    {
     "data": {
      "text/plain": [
       "0         https briefingday usnumber list manage com uns...\n",
       "1                                       https www hvper com\n",
       "2         https briefingday com vnumbernnumberinumberfnu...\n",
       "3                https briefingday com n number commentform\n",
       "4                                 https briefingday com fan\n",
       "                                ...                        \n",
       "133468    https www wsj com articles philadelphia eagles...\n",
       "133469    https cdn substack com image fetch f_auto q_au...\n",
       "133470    https docs google com forms e numberfaipqlsfdl...\n",
       "133471                          https bookclub substack com\n",
       "133472                            https awards substack com\n",
       "Name: url, Length: 133473, dtype: object"
      ]
     },
     "execution_count": 11,
     "metadata": {},
     "output_type": "execute_result"
    }
   ],
   "source": [
    "# Removing stopwords\n",
    "\n",
    "stop = set(nltk.corpus.stopwords.words('english'))\n",
    "\n",
    "punctuation = list(string.punctuation)\n",
    "# Add pontuation to stopwords list\n",
    "stop.update(punctuation)\n",
    "\n",
    "def remove_stopwords(text):\n",
    "    final_text = []\n",
    "    text = text.lower()\n",
    "    for i in text.split():\n",
    "        if i.strip() not in stop:\n",
    "            final_text.append(i.strip())\n",
    "    return \" \".join(final_text)\n",
    "\n",
    "# Removing noise text\n",
    "def clean_text(text):\n",
    "    text = remove_stopwords(text)\n",
    "    return text\n",
    "\n",
    "dff['url'] = dff['url'].apply(clean_text)\n",
    "dff['url']"
   ]
  },
  {
   "cell_type": "markdown",
   "metadata": {},
   "source": [
    "## Features Engineering"
   ]
  },
  {
   "cell_type": "code",
   "execution_count": 12,
   "metadata": {},
   "outputs": [
    {
     "data": {
      "image/png": "[encoded data removed]",
      "text/plain": [
       "<Figure size 720x576 with 1 Axes>"
      ]
     },
     "metadata": {
      "needs_background": "light"
     },
     "output_type": "display_data"
    }
   ],
   "source": [
    "# Creating and show the terms most frequents in texts without spam \n",
    "\n",
    "corpus_spam_false = []\n",
    "\n",
    "sms= dff[dff['is_spam'] ==  False]['url'].str.split()\n",
    "sms = sms.values.tolist()\n",
    "corpus_spam_false = [word for i in sms for word in i]\n",
    "\n",
    "from collections import defaultdict\n",
    "dic=defaultdict(int)\n",
    "for word in corpus_spam_false:\n",
    "    if word in stop:\n",
    "        dic[word]+=1\n",
    "\n",
    "import collections\n",
    "\n",
    "counter= collections.Counter(corpus_spam_false)\n",
    "most=counter.most_common()\n",
    "\n",
    "x, y = [], []\n",
    "for word,count in most[:10]:\n",
    "    if (word not in stop):\n",
    "        x.append(word)\n",
    "        y.append(count)\n",
    "\n",
    "plt.figure(figsize=(10, 8))        \n",
    "plt.title(\"The 10 terms most frequents in texts without spam\")\n",
    "sns.barplot(x=y,y=x);"
   ]
  },
  {
   "cell_type": "code",
   "execution_count": 13,
   "metadata": {},
   "outputs": [
    {
     "data": {
      "image/png": "[encoded data removed]",
      "text/plain": [
       "<Figure size 720x576 with 1 Axes>"
      ]
     },
     "metadata": {
      "needs_background": "light"
     },
     "output_type": "display_data"
    }
   ],
   "source": [
    "# Creating and show the terms most frequents in texts with spam \n",
    "\n",
    "corpus_spam_true = []\n",
    "\n",
    "sms= dff[dff['is_spam'] ==  True]['url'].str.split()\n",
    "sms = sms.values.tolist()\n",
    "corpus_spam_true = [word for i in sms for word in i]\n",
    "\n",
    "from collections import defaultdict\n",
    "dic=defaultdict(int)\n",
    "for word in corpus_spam_true:\n",
    "    if word in stop:\n",
    "        dic[word]+=1\n",
    "\n",
    "import collections\n",
    "\n",
    "counter= collections.Counter(corpus_spam_true)\n",
    "most=counter.most_common()\n",
    "\n",
    "x, y = [], []\n",
    "for word,count in most[:10]:\n",
    "    if (word not in stop):\n",
    "        x.append(word)\n",
    "        y.append(count)\n",
    "\n",
    "plt.figure(figsize=(10, 8))        \n",
    "plt.title(\"The 10 terms most frequents in texts with spam\")\n",
    "sns.barplot(x=y,y=x);"
   ]
  },
  {
   "cell_type": "code",
   "execution_count": 14,
   "metadata": {},
   "outputs": [],
   "source": [
    "# Building the one function to calculate length of urls, excluding the spaces.\n",
    "dff['url_comp'] = dff['url'].apply(lambda x: len(x) - x.count(\" \"))\n",
    "\n",
    "# Função para calcular a fração da pontuação em termos do comprimento da mensagem.\n",
    "def count_punct(text):\n",
    "    count = sum([1 for char in text if char in string.punctuation])\n",
    "    return round(count/(len(text) - text.count(\" \")), 3)*100\n",
    "\n",
    "dff['ponto%'] = dff['url'].apply(lambda x: count_punct(x))\n"
   ]
  },
  {
   "cell_type": "code",
   "execution_count": 15,
   "metadata": {},
   "outputs": [
    {
     "name": "stdout",
     "output_type": "stream",
     "text": [
      "<class 'pandas.core.frame.DataFrame'>\n",
      "RangeIndex: 133473 entries, 0 to 133472\n",
      "Data columns (total 4 columns):\n",
      " #   Column    Non-Null Count   Dtype  \n",
      "---  ------    --------------   -----  \n",
      " 0   is_spam   133473 non-null  object \n",
      " 1   url       133473 non-null  object \n",
      " 2   url_comp  133473 non-null  int64  \n",
      " 3   ponto%    133473 non-null  float64\n",
      "dtypes: float64(1), int64(1), object(2)\n",
      "memory usage: 4.1+ MB\n"
     ]
    }
   ],
   "source": [
    "dff.info()"
   ]
  },
  {
   "cell_type": "code",
   "execution_count": 16,
   "metadata": {},
   "outputs": [
    {
     "data": {
      "image/png": "[encoded data removed]",
      "text/plain": [
       "<Figure size 720x432 with 1 Axes>"
      ]
     },
     "metadata": {
      "needs_background": "light"
     },
     "output_type": "display_data"
    }
   ],
   "source": [
    "# Showing the distribution of url lengths to both classes\n",
    "\n",
    "bins = np.linspace(0, 180, 40)\n",
    "\n",
    "plt.figure(figsize = (10, 6))\n",
    "plt.hist(dff[dff['is_spam']== True]['url_comp'], bins, alpha=0.5, density=True, label='Spam')\n",
    "plt.hist(dff[dff['is_spam']== False]['url_comp'], bins, alpha=0.5, density=True, label='No Spam')\n",
    "plt.legend(loc='upper right')\n",
    "plt.title('Frequência das Mensagens por Comprimento das Mensagens Frequencies of urls by length urls')\n",
    "plt.show()"
   ]
  },
  {
   "cell_type": "code",
   "execution_count": 17,
   "metadata": {},
   "outputs": [
    {
     "data": {
      "image/png": "[encoded data removed]",
      "text/plain": [
       "<Figure size 720x432 with 1 Axes>"
      ]
     },
     "metadata": {
      "needs_background": "light"
     },
     "output_type": "display_data"
    }
   ],
   "source": [
    "# Exibindo a distribuição da fração da pontuação das mensagens para as classes 'blocked' e 'ok'.\n",
    "\n",
    "bins = np.linspace(0, 50, 20)\n",
    "\n",
    "plt.figure(figsize = (10, 6))\n",
    "plt.hist(dff[dff['is_spam']== True]['ponto%'], bins, alpha=0.5, density=True, label='Spam')\n",
    "plt.hist(dff[dff['is_spam']== False]['ponto%'], bins, alpha=0.5, density=True, label='No Spam')\n",
    "plt.title('Urls frequencies by ponctuation')\n",
    "plt.xlabel('%')\n",
    "plt.legend(loc='upper right')\n",
    "plt.show()"
   ]
  },
  {
   "cell_type": "markdown",
   "metadata": {},
   "source": [
    "## Creating Word2vec Word Embeddings in Gensim"
   ]
  },
  {
   "cell_type": "markdown",
   "metadata": {},
   "source": [
    "#### Firstly, we need split the data into sentences which is requires by the constructor of the Word2Vec class in Gensim"
   ]
  },
  {
   "cell_type": "code",
   "execution_count": 18,
   "metadata": {},
   "outputs": [],
   "source": [
    "\n",
    "# function to clean and pre-process the text.\n",
    "def clean_reviews(review):  \n",
    "    \n",
    "    # 1. Removing html tags\n",
    "    review_text = BeautifulSoup(review,\"lxml\").get_text()\n",
    "    \n",
    "    # 2. Retaining only alphabets.\n",
    "    review_text = re.sub(\"[^a-zA-Z]\",\" \",review_text)\n",
    "    \n",
    "    # 3. Converting to lower case and splitting\n",
    "    word_tokens= review_text.lower().split()\n",
    "    \n",
    "    # 4. Remove stopwords\n",
    "    le=WordNetLemmatizer()\n",
    "    stop_words= set(stopwords.words(\"english\"))     \n",
    "    word_tokens= [le.lemmatize(w) for w in word_tokens if not w in stop_words]\n",
    "    \n",
    "    cleaned_review=\" \".join(word_tokens)\n",
    "    return cleaned_review"
   ]
  },
  {
   "cell_type": "code",
   "execution_count": 19,
   "metadata": {},
   "outputs": [
    {
     "name": "stdout",
     "output_type": "stream",
     "text": [
      "133473\n",
      "133473\n"
     ]
    }
   ],
   "source": [
    "tokenizer = nltk.data.load('tokenizers/punkt/english.pickle')\n",
    "sentences=[]\n",
    "sum=0\n",
    "for review in dff['url']:\n",
    "  sents=tokenizer.tokenize(review.strip())\n",
    "  sum+=len(sents)\n",
    "  for sent in sents:\n",
    "    cleaned_sent = clean_reviews(sent)\n",
    "    \n",
    "    sentences.append(cleaned_sent.split()) # can use word_tokenize also.\n",
    "print(sum)\n",
    "print(len(sentences))  # total no of sentences"
   ]
  },
  {
   "cell_type": "code",
   "execution_count": 20,
   "metadata": {},
   "outputs": [
    {
     "name": "stdout",
     "output_type": "stream",
     "text": [
      "['http', 'briefingday', 'usnumber', 'list', 'manage', 'com', 'unsubscribe'] \n",
      "\n",
      "['http', 'www', 'hvper', 'com'] \n",
      "\n",
      "['http', 'briefingday', 'com', 'vnumbernnumberinumberfnumber'] \n",
      "\n",
      "['http', 'briefingday', 'com', 'n', 'number', 'commentform'] \n",
      "\n",
      "['http', 'briefingday', 'com', 'fan'] \n",
      "\n"
     ]
    }
   ],
   "source": [
    "# We can to see the few sentences\n",
    "for te in sentences[:5]:\n",
    "  print(te,\"\\n\")"
   ]
  },
  {
   "cell_type": "code",
   "execution_count": 21,
   "metadata": {},
   "outputs": [
    {
     "data": {
      "text/plain": [
       "(9002919, 13405080)"
      ]
     },
     "execution_count": 21,
     "metadata": {},
     "output_type": "execute_result"
    }
   ],
   "source": [
    "import gensim\n",
    "\n",
    "w2v_model=gensim.models.Word2Vec(sentences=sentences,window=10,min_count=1)\n",
    "\n",
    "w2v_model.train(sentences,epochs=10,total_examples=len(sentences))"
   ]
  },
  {
   "cell_type": "markdown",
   "metadata": {},
   "source": [
    "##### Parameters: \n",
    "\n",
    "`sentences` : The sentences we have obtained.\n",
    "\n",
    "`window` : The number f words around any word to see the context.\n",
    "\n",
    "`min_count` : The minimum number of times a word should appear for its embedding to be formed or learnt."
   ]
  },
  {
   "cell_type": "code",
   "execution_count": 22,
   "metadata": {},
   "outputs": [
    {
     "name": "stdout",
     "output_type": "stream",
     "text": [
      "The total number of words are :  62345\n"
     ]
    }
   ],
   "source": [
    "# total numberof extracted words.\n",
    "vocab=w2v_model.wv.key_to_index \n",
    "print(\"The total number of words are : \",len(vocab))"
   ]
  },
  {
   "cell_type": "code",
   "execution_count": 23,
   "metadata": {},
   "outputs": [
    {
     "data": {
      "text/plain": [
       "[('wind', 0.7875035405158997),\n",
       " ('landfall', 0.7806764841079712),\n",
       " ('storm', 0.7771666049957275),\n",
       " ('tropical', 0.7766754627227783),\n",
       " ('heavy', 0.7562013864517212),\n",
       " ('eta', 0.7500133514404297),\n",
       " ('gulf', 0.7340613603591919),\n",
       " ('hurricane', 0.730910062789917),\n",
       " ('pau', 0.7224106788635254),\n",
       " ('bay', 0.7193511128425598)]"
      ]
     },
     "execution_count": 23,
     "metadata": {},
     "output_type": "execute_result"
    }
   ],
   "source": [
    "# words most similar to a given word.\n",
    "w2v_model.wv.most_similar('rain')"
   ]
  },
  {
   "cell_type": "code",
   "execution_count": 24,
   "metadata": {},
   "outputs": [
    {
     "data": {
      "text/plain": [
       "0.55588305"
      ]
     },
     "execution_count": 24,
     "metadata": {},
     "output_type": "execute_result"
    }
   ],
   "source": [
    "# similaraity b/w two words\n",
    "w2v_model.wv.similarity('woman','man')"
   ]
  },
  {
   "cell_type": "markdown",
   "metadata": {},
   "source": [
    "##### We creating a dictionary with words in vocab and their embeddings. This will be used when we will be creating embedding matrix"
   ]
  },
  {
   "cell_type": "code",
   "execution_count": 25,
   "metadata": {},
   "outputs": [],
   "source": [
    "# print(vocab)\n",
    "vocab=list(vocab.keys())"
   ]
  },
  {
   "cell_type": "code",
   "execution_count": 26,
   "metadata": {},
   "outputs": [
    {
     "name": "stdout",
     "output_type": "stream",
     "text": [
      "The no of key-value pairs :  62345\n"
     ]
    }
   ],
   "source": [
    "# Creating the dictionary\n",
    "word_vec_dict={}\n",
    "for word in vocab:\n",
    "  word_vec_dict[word]=w2v_model.wv.get_vector(word)\n",
    "print(\"The no of key-value pairs : \",len(word_vec_dict)) # should come equal to vocab size"
   ]
  },
  {
   "cell_type": "code",
   "execution_count": 28,
   "metadata": {},
   "outputs": [
    {
     "name": "stdout",
     "output_type": "stream",
     "text": [
      "88\n"
     ]
    }
   ],
   "source": [
    "# Now since we will have to pad we need to find the maximum lenght of any document.\n",
    "maxi=-1\n",
    "for i,rev in enumerate(dff['url']):\n",
    "  tokens=rev.split()\n",
    "  if(len(tokens)>maxi):\n",
    "    maxi=len(tokens)\n",
    "print(maxi)"
   ]
  },
  {
   "cell_type": "code",
   "execution_count": 29,
   "metadata": {},
   "outputs": [],
   "source": [
    "tok = Tokenizer()\n",
    "tok.fit_on_texts(dff['url'])\n",
    "vocab_size = len(tok.word_index) + 1\n",
    "encd_rev = tok.texts_to_sequences(dff['url'])"
   ]
  },
  {
   "cell_type": "code",
   "execution_count": 30,
   "metadata": {},
   "outputs": [],
   "source": [
    "\n",
    "max_rev_len = 88  # max lenght of a review\n",
    "vocab_size = len(tok.word_index) + 1  # total no of words\n",
    "embed_dim = 100 # embedding dimension as choosen in word2vec constructor"
   ]
  },
  {
   "cell_type": "code",
   "execution_count": 31,
   "metadata": {},
   "outputs": [
    {
     "data": {
      "text/plain": [
       "66558"
      ]
     },
     "execution_count": 31,
     "metadata": {},
     "output_type": "execute_result"
    }
   ],
   "source": [
    "vocab_size"
   ]
  },
  {
   "cell_type": "code",
   "execution_count": 32,
   "metadata": {},
   "outputs": [
    {
     "data": {
      "text/plain": [
       "(133473, 88)"
      ]
     },
     "execution_count": 32,
     "metadata": {},
     "output_type": "execute_result"
    }
   ],
   "source": [
    "#### We should encode the words in the urls using Keras tokenizer. \n",
    "\n",
    "from tensorflow.keras.preprocessing.sequence import pad_sequences\n",
    "\n",
    "# now padding to have a amximum length of 88\n",
    "pad_rev= pad_sequences(encd_rev, maxlen=max_rev_len, padding='post')\n",
    "pad_rev.shape  "
   ]
  },
  {
   "cell_type": "code",
   "execution_count": 33,
   "metadata": {},
   "outputs": [],
   "source": [
    "# Now creating the embedding matrix\n",
    "embed_matrix=np.zeros(shape=(vocab_size,embed_dim))\n",
    "for word,i in tok.word_index.items():\n",
    "  embed_vector=word_vec_dict.get(word)\n",
    "  if embed_vector is not None:  # word is in the vocabulary learned by the w2v model\n",
    "    embed_matrix[i]=embed_vector"
   ]
  },
  {
   "cell_type": "code",
   "execution_count": 35,
   "metadata": {},
   "outputs": [],
   "source": [
    "# prepare train and val sets first \n",
    "Y= df['is_spam']\n",
    "x_train,x_test,y_train,y_test=train_test_split(pad_rev,Y,test_size=0.20,random_state=42)"
   ]
  },
  {
   "cell_type": "markdown",
   "metadata": {},
   "source": [
    "## Create Baseline Model"
   ]
  },
  {
   "cell_type": "code",
   "execution_count": 36,
   "metadata": {},
   "outputs": [],
   "source": [
    "# To create baseline model we using the Multinomial Naive Beays\n",
    "from sklearn.naive_bayes import MultinomialNB\n",
    "from sklearn.metrics import accuracy_score, roc_curve, auc\n",
    "\n",
    "\n",
    "def evaluate_roc(probs, y_true):\n",
    "    \"\"\"\n",
    "    - Print AUC and accuracy on the test set\n",
    "    - Plot ROC\n",
    "    @params    probs (np.array): an array of predicted probabilities with shape (len(y_true), 2)\n",
    "    @params    y_true (np.array): an array of the true values with shape (len(y_true),)\n",
    "    \"\"\"\n",
    "    preds = probs #[:, 1]\n",
    "    fpr, tpr, threshold = roc_curve(y_true, preds)\n",
    "    roc_auc = auc(fpr, tpr)\n",
    "    print(f'AUC: {roc_auc:.4f}')\n",
    "       \n",
    "    # Get accuracy over the test set\n",
    "    y_pred = np.where(preds >= 0.5, 1, 0)\n",
    "    accuracy = accuracy_score(y_true, y_pred)\n",
    "    print(f'Accuracy: {accuracy*100:.2f}%')\n",
    "    \n",
    "    # Plot ROC AUC\n",
    "    plt.figure(figsize = (8, 6))\n",
    "    plt.title('Receiver Operating Characteristic')\n",
    "    plt.plot(fpr, tpr, 'b', label = 'AUC = %0.2f' % roc_auc)\n",
    "    plt.legend(loc = 'lower right')\n",
    "    plt.plot([0, 1], [0, 1],'r--')\n",
    "    plt.xlim([0, 1])\n",
    "    plt.ylim([0, 1])\n",
    "    plt.ylabel('True Positive Rate')\n",
    "    plt.xlabel('False Positive Rate')\n",
    "    plt.show()"
   ]
  },
  {
   "cell_type": "code",
   "execution_count": 37,
   "metadata": {},
   "outputs": [],
   "source": [
    "# Enconding \n",
    "y_train.replace([True, False], [1,0], inplace=True)\n",
    "\n",
    "y_test.replace([True, False], [1,0], inplace=True)"
   ]
  },
  {
   "cell_type": "code",
   "execution_count": 38,
   "metadata": {},
   "outputs": [
    {
     "name": "stdout",
     "output_type": "stream",
     "text": [
      "AUC: 0.7439\n",
      "Accuracy: 68.94%\n"
     ]
    },
    {
     "data": {
      "image/png": "[encoded data removed]",
      "text/plain": [
       "<Figure size 576x432 with 1 Axes>"
      ]
     },
     "metadata": {
      "needs_background": "light"
     },
     "output_type": "display_data"
    }
   ],
   "source": [
    "# Compute predicted probabilities\n",
    "nb_model = MultinomialNB(alpha=1.8)\n",
    "nb_model.fit(x_train, y_train)\n",
    "probs = nb_model.predict_proba(x_test)[:, 1]\n",
    "\n",
    "# Evaluate the classifier\n",
    "evaluate_roc(probs, y_test)"
   ]
  },
  {
   "cell_type": "code",
   "execution_count": null,
   "metadata": {},
   "outputs": [],
   "source": [
    "# Creating LSTM model\n",
    "from tensorflow.keras.initializers import Constant\n",
    "from keras.layers import ReLU\n",
    "from keras.layers import Dropout\n",
    "model=Sequential()\n",
    "model.add(Embedding(input_dim=vocab_size,output_dim=embed_dim,input_length=max_rev_len,embeddings_initializer=Constant(embed_matrix)))\n",
    "# model.add(CuDNNLSTM(64,return_sequences=False)) # loss stucks at about \n",
    "model.add(Flatten())\n",
    "model.add(Dense(16,activation='relu'))\n",
    "model.add(Dropout(0.50))\n",
    "# model.add(Dense(16,activation='relu'))\n",
    "# model.add(Dropout(0.20))\n",
    "model.add(Dense(1,activation='sigmoid'))  # sigmod for bin. classification."
   ]
  },
  {
   "cell_type": "code",
   "execution_count": null,
   "metadata": {},
   "outputs": [
    {
     "name": "stdout",
     "output_type": "stream",
     "text": [
      "Model: \"sequential\"\n",
      "_________________________________________________________________\n",
      "Layer (type)                 Output Shape              Param #   \n",
      "=================================================================\n",
      "embedding (Embedding)        (None, 78, 100)           6655800   \n",
      "_________________________________________________________________\n",
      "flatten (Flatten)            (None, 7800)              0         \n",
      "_________________________________________________________________\n",
      "dense (Dense)                (None, 16)                124816    \n",
      "_________________________________________________________________\n",
      "dropout (Dropout)            (None, 16)                0         \n",
      "_________________________________________________________________\n",
      "dense_1 (Dense)              (None, 1)                 17        \n",
      "=================================================================\n",
      "Total params: 6,780,633\n",
      "Trainable params: 6,780,633\n",
      "Non-trainable params: 0\n",
      "_________________________________________________________________\n"
     ]
    }
   ],
   "source": [
    "# Showing the Trainable params of LSTM model\n",
    "model.summary()"
   ]
  },
  {
   "cell_type": "code",
   "execution_count": null,
   "metadata": {},
   "outputs": [],
   "source": [
    "# compile the model\n",
    "model.compile(optimizer=keras.optimizers.RMSprop(lr=1e-3),loss='binary_crossentropy',metrics=['accuracy'])"
   ]
  },
  {
   "cell_type": "code",
   "execution_count": null,
   "metadata": {},
   "outputs": [
    {
     "name": "stdout",
     "output_type": "stream",
     "text": [
      "Epoch 1/20\n",
      "1335/1335 [==============================] - 87s 64ms/step - loss: 0.3221 - accuracy: 0.8617 - val_loss: 0.2153 - val_accuracy: 0.9098\n",
      "Epoch 2/20\n",
      "1335/1335 [==============================] - 82s 61ms/step - loss: 0.2283 - accuracy: 0.9039 - val_loss: 0.2104 - val_accuracy: 0.9181\n",
      "Epoch 3/20\n",
      "1335/1335 [==============================] - 82s 61ms/step - loss: 0.2040 - accuracy: 0.9122 - val_loss: 0.1853 - val_accuracy: 0.9278\n",
      "Epoch 4/20\n",
      "1335/1335 [==============================] - 82s 61ms/step - loss: 0.1886 - accuracy: 0.9176 - val_loss: 0.1899 - val_accuracy: 0.9291\n",
      "Epoch 5/20\n",
      "1335/1335 [==============================] - 83s 62ms/step - loss: 0.1807 - accuracy: 0.9197 - val_loss: 0.1760 - val_accuracy: 0.9351\n",
      "Epoch 6/20\n",
      "1335/1335 [==============================] - 82s 62ms/step - loss: 0.1695 - accuracy: 0.9241 - val_loss: 0.1799 - val_accuracy: 0.9269\n",
      "Epoch 7/20\n",
      "1335/1335 [==============================] - 83s 62ms/step - loss: 0.1663 - accuracy: 0.9226 - val_loss: 0.1744 - val_accuracy: 0.9387\n",
      "Epoch 8/20\n",
      "1335/1335 [==============================] - 82s 62ms/step - loss: 0.1572 - accuracy: 0.9267 - val_loss: 0.1827 - val_accuracy: 0.9323\n",
      "Epoch 9/20\n",
      "1335/1335 [==============================] - 83s 62ms/step - loss: 0.1558 - accuracy: 0.9287 - val_loss: 0.1795 - val_accuracy: 0.9388\n",
      "Epoch 10/20\n",
      "1335/1335 [==============================] - 80s 60ms/step - loss: 0.1523 - accuracy: 0.9273 - val_loss: 0.1924 - val_accuracy: 0.9340\n",
      "Epoch 11/20\n",
      "1335/1335 [==============================] - 81s 61ms/step - loss: 0.1486 - accuracy: 0.9309 - val_loss: 0.1912 - val_accuracy: 0.9341\n",
      "Epoch 12/20\n",
      "1335/1335 [==============================] - 83s 62ms/step - loss: 0.1458 - accuracy: 0.9313 - val_loss: 0.1792 - val_accuracy: 0.9388\n",
      "Epoch 13/20\n",
      "1335/1335 [==============================] - 84s 63ms/step - loss: 0.1446 - accuracy: 0.9320 - val_loss: 0.1821 - val_accuracy: 0.9375\n",
      "Epoch 14/20\n",
      "1335/1335 [==============================] - 85s 64ms/step - loss: 0.1429 - accuracy: 0.9330 - val_loss: 0.1886 - val_accuracy: 0.9420\n",
      "Epoch 15/20\n",
      "1335/1335 [==============================] - 85s 64ms/step - loss: 0.1378 - accuracy: 0.9335 - val_loss: 0.1782 - val_accuracy: 0.9412\n",
      "Epoch 16/20\n",
      "1335/1335 [==============================] - 85s 64ms/step - loss: 0.1381 - accuracy: 0.9332 - val_loss: 0.1818 - val_accuracy: 0.9370\n",
      "Epoch 17/20\n",
      "1335/1335 [==============================] - 85s 64ms/step - loss: 0.1379 - accuracy: 0.9348 - val_loss: 0.1894 - val_accuracy: 0.9388\n",
      "Epoch 18/20\n",
      "1335/1335 [==============================] - 85s 63ms/step - loss: 0.1373 - accuracy: 0.9333 - val_loss: 0.1884 - val_accuracy: 0.9379\n",
      "Epoch 19/20\n",
      "1335/1335 [==============================] - 83s 62ms/step - loss: 0.1339 - accuracy: 0.9352 - val_loss: 0.1847 - val_accuracy: 0.9393\n",
      "Epoch 20/20\n",
      "1335/1335 [==============================] - 77s 58ms/step - loss: 0.1394 - accuracy: 0.9346 - val_loss: 0.1982 - val_accuracy: 0.9391\n"
     ]
    }
   ],
   "source": [
    "# specify batch size and epocj=hs for training.\n",
    "epochs= 20\n",
    "batch_size=64\n",
    "\n",
    "# fitting the model.\n",
    "epochs = model.fit(x_train,y_train,epochs=epochs,batch_size=batch_size,validation_split= 0.2)"
   ]
  },
  {
   "cell_type": "code",
   "execution_count": null,
   "metadata": {},
   "outputs": [
    {
     "data": {
      "image/png": "[encoded data removed]",
      "text/plain": [
       "<Figure size 576x432 with 1 Axes>"
      ]
     },
     "metadata": {
      "needs_background": "light"
     },
     "output_type": "display_data"
    }
   ],
   "source": [
    "# Plot the training loss and validation loss\n",
    "plt.figure(figsize = (8, 6))\n",
    "plt.plot(epochs.history['loss'])\n",
    "plt.plot(epochs.history['val_loss'])\n",
    "plt.title('Model loss progress during training')\n",
    "plt.xlabel('Epochs')\n",
    "plt.ylabel('Training and validation loss')\n",
    "plt.legend(['Training loss', 'Validation loss']);"
   ]
  },
  {
   "cell_type": "code",
   "execution_count": null,
   "metadata": {},
   "outputs": [],
   "source": [
    "# Getting predict values \n",
    "y_predict = model.predict_classes(x_test)"
   ]
  },
  {
   "cell_type": "code",
   "execution_count": null,
   "metadata": {},
   "outputs": [
    {
     "data": {
      "image/png": "[encoded data removed]",
      "text/plain": [
       "<Figure size 576x432 with 2 Axes>"
      ]
     },
     "metadata": {
      "needs_background": "light"
     },
     "output_type": "display_data"
    }
   ],
   "source": [
    "# Plot the confusion matrix\n",
    "from sklearn.metrics import confusion_matrix\n",
    "plt.figure(figsize = (8, 6))\n",
    "cm = confusion_matrix(y_test, y_predict)\n",
    "sns.heatmap(cm, annot=True);"
   ]
  },
  {
   "cell_type": "code",
   "execution_count": null,
   "metadata": {},
   "outputs": [
    {
     "name": "stdout",
     "output_type": "stream",
     "text": [
      "              precision    recall  f1-score   support\n",
      "\n",
      "       False       0.92      0.99      0.96     18274\n",
      "        True       0.97      0.82      0.89      8421\n",
      "\n",
      "    accuracy                           0.94     26695\n",
      "   macro avg       0.95      0.91      0.92     26695\n",
      "weighted avg       0.94      0.94      0.93     26695\n",
      "\n"
     ]
    }
   ],
   "source": [
    "# Report Classification\n",
    "from sklearn.metrics import classification_report\n",
    "print(classification_report(y_test, y_predict))"
   ]
  },
  {
   "cell_type": "code",
   "execution_count": null,
   "metadata": {},
   "outputs": [
    {
     "name": "stdout",
     "output_type": "stream",
     "text": [
      "AUC: 0.9062\n",
      "Accuracy: 93.65%\n"
     ]
    },
    {
     "data": {
      "image/png": "[encoded data removed]",
      "text/plain": [
       "<Figure size 576x432 with 1 Axes>"
      ]
     },
     "metadata": {
      "needs_background": "light"
     },
     "output_type": "display_data"
    }
   ],
   "source": [
    "# Plot the roc auc curve to embedding LSTM model\n",
    "evaluate_roc(y_predict, y_test)"
   ]
  },
  {
   "cell_type": "markdown",
   "metadata": {},
   "source": [
    "We easily see that peformance of embedding LSTM is much batter than the baseline model, we getting um AUC of the 0.9062 against 0.7439 from baseline model."
   ]
  }
 ],
 "metadata": {
  "interpreter": {
   "hash": "70bbc14ac656fae6255699fdfbb0a219fec5e7446bcca062721a0f399f9119ed"
  },
  "kernelspec": {
   "display_name": "Python 3.9.8 64-bit",
   "language": "python",
   "name": "python3"
  },
  "language_info": {
   "codemirror_mode": {
    "name": "ipython",
    "version": 3
   },
   "file_extension": ".py",
   "mimetype": "text/x-python",
   "name": "python",
   "nbconvert_exporter": "python",
   "pygments_lexer": "ipython3",
   "version": "3.9.8"
  },
  "orig_nbformat": 4
 },
 "nbformat": 4,
 "nbformat_minor": 2
}
